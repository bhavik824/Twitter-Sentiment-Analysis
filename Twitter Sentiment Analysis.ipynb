{
 "cells": [
  {
   "cell_type": "code",
   "execution_count": null,
   "id": "81b294f5-4a6a-4888-85aa-91be3cdab081",
   "metadata": {},
   "outputs": [],
   "source": []
  },
  {
   "cell_type": "code",
   "execution_count": 6,
   "id": "9ff62fe5-0fa2-4fd7-9d32-4e9afdc428db",
   "metadata": {},
   "outputs": [],
   "source": [
    "import nltk\n",
    "import re\n",
    "import pandas as pd\n",
    "\n",
    "import seaborn as sns\n",
    "from wordcloud import WordCloud\n",
    "import matplotlib.pyplot as plt\n",
    "\n",
    "from sklearn.naive_bayes import MultinomialNB\n",
    "from sklearn.linear_model import LogisticRegression\n",
    "from sklearn.model_selection import train_test_split\n",
    "from sklearn.feature_extraction.text import CountVectorizer\n",
    "from sklearn.metrics import confusion_matrix, classification_report\n",
    "\n",
    "from nltk.stem import WordNetLemmatizer\n",
    "from nltk import pos_tag\n",
    "\n",
    "from sklearn.model_selection import train_test_split\n",
    "\n",
    "from sklearn.linear_model import SGDClassifier\n",
    "from sklearn.model_selection import GridSearchCV\n",
    "from sklearn.naive_bayes import MultinomialNB\n",
    "\n",
    "from sklearn.metrics import roc_curve, roc_auc_score\n",
    "from sklearn.metrics import classification_report\n",
    "from sklearn.metrics import confusion_matrix\n",
    "from sklearn.metrics import ConfusionMatrixDisplay\n",
    "from sklearn.metrics import roc_curve, roc_auc_score"
   ]
  },
  {
   "cell_type": "code",
   "execution_count": 8,
   "id": "278a5f8e-11b9-44c2-bb5f-3d6f2c1e923d",
   "metadata": {},
   "outputs": [],
   "source": [
    "FILE_PATH = 'Data Set.csv'\n",
    "COL_NAMES = ['target','ids','date','flag','user','text']\n",
    "df = pd.read_csv(FILE_PATH, encoding = \"ISO-8859-1\", names = COL_NAMES)"
   ]
  },
  {
   "cell_type": "code",
   "execution_count": 10,
   "id": "7b22c4cd-1424-483a-a1cb-89928628845c",
   "metadata": {},
   "outputs": [
    {
     "data": {
      "text/html": [
       "<div>\n",
       "<style scoped>\n",
       "    .dataframe tbody tr th:only-of-type {\n",
       "        vertical-align: middle;\n",
       "    }\n",
       "\n",
       "    .dataframe tbody tr th {\n",
       "        vertical-align: top;\n",
       "    }\n",
       "\n",
       "    .dataframe thead th {\n",
       "        text-align: right;\n",
       "    }\n",
       "</style>\n",
       "<table border=\"1\" class=\"dataframe\">\n",
       "  <thead>\n",
       "    <tr style=\"text-align: right;\">\n",
       "      <th></th>\n",
       "      <th>target</th>\n",
       "      <th>ids</th>\n",
       "      <th>date</th>\n",
       "      <th>flag</th>\n",
       "      <th>user</th>\n",
       "      <th>text</th>\n",
       "    </tr>\n",
       "  </thead>\n",
       "  <tbody>\n",
       "    <tr>\n",
       "      <th>0</th>\n",
       "      <td>0</td>\n",
       "      <td>1467810369</td>\n",
       "      <td>Mon Apr 06 22:19:45 PDT 2009</td>\n",
       "      <td>NO_QUERY</td>\n",
       "      <td>_TheSpecialOne_</td>\n",
       "      <td>@switchfoot http://twitpic.com/2y1zl - Awww, t...</td>\n",
       "    </tr>\n",
       "    <tr>\n",
       "      <th>1</th>\n",
       "      <td>0</td>\n",
       "      <td>1467810672</td>\n",
       "      <td>Mon Apr 06 22:19:49 PDT 2009</td>\n",
       "      <td>NO_QUERY</td>\n",
       "      <td>scotthamilton</td>\n",
       "      <td>is upset that he can't update his Facebook by ...</td>\n",
       "    </tr>\n",
       "    <tr>\n",
       "      <th>2</th>\n",
       "      <td>0</td>\n",
       "      <td>1467810917</td>\n",
       "      <td>Mon Apr 06 22:19:53 PDT 2009</td>\n",
       "      <td>NO_QUERY</td>\n",
       "      <td>mattycus</td>\n",
       "      <td>@Kenichan I dived many times for the ball. Man...</td>\n",
       "    </tr>\n",
       "    <tr>\n",
       "      <th>3</th>\n",
       "      <td>0</td>\n",
       "      <td>1467811184</td>\n",
       "      <td>Mon Apr 06 22:19:57 PDT 2009</td>\n",
       "      <td>NO_QUERY</td>\n",
       "      <td>ElleCTF</td>\n",
       "      <td>my whole body feels itchy and like its on fire</td>\n",
       "    </tr>\n",
       "    <tr>\n",
       "      <th>4</th>\n",
       "      <td>0</td>\n",
       "      <td>1467811193</td>\n",
       "      <td>Mon Apr 06 22:19:57 PDT 2009</td>\n",
       "      <td>NO_QUERY</td>\n",
       "      <td>Karoli</td>\n",
       "      <td>@nationwideclass no, it's not behaving at all....</td>\n",
       "    </tr>\n",
       "  </tbody>\n",
       "</table>\n",
       "</div>"
      ],
      "text/plain": [
       "   target         ids                          date      flag  \\\n",
       "0       0  1467810369  Mon Apr 06 22:19:45 PDT 2009  NO_QUERY   \n",
       "1       0  1467810672  Mon Apr 06 22:19:49 PDT 2009  NO_QUERY   \n",
       "2       0  1467810917  Mon Apr 06 22:19:53 PDT 2009  NO_QUERY   \n",
       "3       0  1467811184  Mon Apr 06 22:19:57 PDT 2009  NO_QUERY   \n",
       "4       0  1467811193  Mon Apr 06 22:19:57 PDT 2009  NO_QUERY   \n",
       "\n",
       "              user                                               text  \n",
       "0  _TheSpecialOne_  @switchfoot http://twitpic.com/2y1zl - Awww, t...  \n",
       "1    scotthamilton  is upset that he can't update his Facebook by ...  \n",
       "2         mattycus  @Kenichan I dived many times for the ball. Man...  \n",
       "3          ElleCTF    my whole body feels itchy and like its on fire   \n",
       "4           Karoli  @nationwideclass no, it's not behaving at all....  "
      ]
     },
     "execution_count": 10,
     "metadata": {},
     "output_type": "execute_result"
    }
   ],
   "source": [
    "df.head ()"
   ]
  },
  {
   "cell_type": "code",
   "execution_count": 12,
   "id": "89c7d736-d703-4f4d-ba7d-22152932288d",
   "metadata": {},
   "outputs": [
    {
     "data": {
      "text/plain": [
       "Index(['target', 'ids', 'date', 'flag', 'user', 'text'], dtype='object')"
      ]
     },
     "execution_count": 12,
     "metadata": {},
     "output_type": "execute_result"
    }
   ],
   "source": [
    "df.columns"
   ]
  },
  {
   "cell_type": "code",
   "execution_count": 14,
   "id": "7f77d7f5-f153-4878-8416-d564abbe4089",
   "metadata": {},
   "outputs": [
    {
     "data": {
      "text/plain": [
       "target     int64\n",
       "ids        int64\n",
       "date      object\n",
       "flag      object\n",
       "user      object\n",
       "text      object\n",
       "dtype: object"
      ]
     },
     "execution_count": 14,
     "metadata": {},
     "output_type": "execute_result"
    }
   ],
   "source": [
    "df.dtypes"
   ]
  },
  {
   "cell_type": "code",
   "execution_count": 16,
   "id": "46ff659c-ab48-4578-931d-524ce74e2956",
   "metadata": {},
   "outputs": [
    {
     "name": "stdout",
     "output_type": "stream",
     "text": [
      "<class 'pandas.core.frame.DataFrame'>\n",
      "RangeIndex: 1600000 entries, 0 to 1599999\n",
      "Data columns (total 6 columns):\n",
      " #   Column  Non-Null Count    Dtype \n",
      "---  ------  --------------    ----- \n",
      " 0   target  1600000 non-null  int64 \n",
      " 1   ids     1600000 non-null  int64 \n",
      " 2   date    1600000 non-null  object\n",
      " 3   flag    1600000 non-null  object\n",
      " 4   user    1600000 non-null  object\n",
      " 5   text    1600000 non-null  object\n",
      "dtypes: int64(2), object(4)\n",
      "memory usage: 73.2+ MB\n"
     ]
    }
   ],
   "source": [
    "df.info()"
   ]
  },
  {
   "cell_type": "code",
   "execution_count": 18,
   "id": "367c70ba-6894-4e63-85b2-cf81f8b58b90",
   "metadata": {},
   "outputs": [
    {
     "data": {
      "text/plain": [
       "target    0\n",
       "ids       0\n",
       "date      0\n",
       "flag      0\n",
       "user      0\n",
       "text      0\n",
       "dtype: int64"
      ]
     },
     "execution_count": 18,
     "metadata": {},
     "output_type": "execute_result"
    }
   ],
   "source": [
    "df.isnull().sum()"
   ]
  },
  {
   "cell_type": "code",
   "execution_count": 20,
   "id": "4a132ec4-9954-450e-8846-d56fcc09b338",
   "metadata": {},
   "outputs": [
    {
     "name": "stdout",
     "output_type": "stream",
     "text": [
      "<class 'pandas.core.frame.DataFrame'>\n",
      "RangeIndex: 1600000 entries, 0 to 1599999\n",
      "Data columns (total 2 columns):\n",
      " #   Column  Non-Null Count    Dtype \n",
      "---  ------  --------------    ----- \n",
      " 0   text    1600000 non-null  object\n",
      " 1   target  1600000 non-null  int64 \n",
      "dtypes: int64(1), object(1)\n",
      "memory usage: 24.4+ MB\n"
     ]
    }
   ],
   "source": [
    "df = df[['text','target']]\n",
    "df.info()"
   ]
  },
  {
   "cell_type": "code",
   "execution_count": 22,
   "id": "ac76fb48-f331-45ba-8cca-2ec69da67205",
   "metadata": {},
   "outputs": [
    {
     "data": {
      "text/plain": [
       "array([0, 4], dtype=int64)"
      ]
     },
     "execution_count": 22,
     "metadata": {},
     "output_type": "execute_result"
    }
   ],
   "source": [
    "df['target'].unique()"
   ]
  },
  {
   "cell_type": "code",
   "execution_count": 24,
   "id": "13e43c74-541c-442b-ac64-36cbb34d6aa0",
   "metadata": {},
   "outputs": [
    {
     "data": {
      "text/html": [
       "<div>\n",
       "<style scoped>\n",
       "    .dataframe tbody tr th:only-of-type {\n",
       "        vertical-align: middle;\n",
       "    }\n",
       "\n",
       "    .dataframe tbody tr th {\n",
       "        vertical-align: top;\n",
       "    }\n",
       "\n",
       "    .dataframe thead th {\n",
       "        text-align: right;\n",
       "    }\n",
       "</style>\n",
       "<table border=\"1\" class=\"dataframe\">\n",
       "  <thead>\n",
       "    <tr style=\"text-align: right;\">\n",
       "      <th></th>\n",
       "      <th>text</th>\n",
       "      <th>target</th>\n",
       "    </tr>\n",
       "  </thead>\n",
       "  <tbody>\n",
       "    <tr>\n",
       "      <th>1599995</th>\n",
       "      <td>Just woke up. Having no school is the best fee...</td>\n",
       "      <td>1</td>\n",
       "    </tr>\n",
       "    <tr>\n",
       "      <th>1599996</th>\n",
       "      <td>TheWDB.com - Very cool to hear old Walt interv...</td>\n",
       "      <td>1</td>\n",
       "    </tr>\n",
       "    <tr>\n",
       "      <th>1599997</th>\n",
       "      <td>Are you ready for your MoJo Makeover? Ask me f...</td>\n",
       "      <td>1</td>\n",
       "    </tr>\n",
       "    <tr>\n",
       "      <th>1599998</th>\n",
       "      <td>Happy 38th Birthday to my boo of alll time!!! ...</td>\n",
       "      <td>1</td>\n",
       "    </tr>\n",
       "    <tr>\n",
       "      <th>1599999</th>\n",
       "      <td>happy #charitytuesday @theNSPCC @SparksCharity...</td>\n",
       "      <td>1</td>\n",
       "    </tr>\n",
       "  </tbody>\n",
       "</table>\n",
       "</div>"
      ],
      "text/plain": [
       "                                                      text  target\n",
       "1599995  Just woke up. Having no school is the best fee...       1\n",
       "1599996  TheWDB.com - Very cool to hear old Walt interv...       1\n",
       "1599997  Are you ready for your MoJo Makeover? Ask me f...       1\n",
       "1599998  Happy 38th Birthday to my boo of alll time!!! ...       1\n",
       "1599999  happy #charitytuesday @theNSPCC @SparksCharity...       1"
      ]
     },
     "execution_count": 24,
     "metadata": {},
     "output_type": "execute_result"
    }
   ],
   "source": [
    "df['target'] = df['target'].replace(to_replace = 4, value = 1)\n",
    "df.tail()"
   ]
  },
  {
   "cell_type": "code",
   "execution_count": 26,
   "id": "3a86eb0d-2773-443e-8fe7-9b9e5592bc08",
   "metadata": {},
   "outputs": [
    {
     "data": {
      "text/plain": [
       "<Axes: xlabel='target', ylabel='count'>"
      ]
     },
     "execution_count": 26,
     "metadata": {},
     "output_type": "execute_result"
    },
    {
     "data": {
      "image/png": "[encoded data removed]",
      "text/plain": [
       "<Figure size 640x480 with 1 Axes>"
      ]
     },
     "metadata": {},
     "output_type": "display_data"
    }
   ],
   "source": [
    "sns.countplot(data= df, x = 'target')"
   ]
  },
  {
   "cell_type": "code",
   "execution_count": 28,
   "id": "d82a861a-39c7-4a76-8b8a-8c480504dc00",
   "metadata": {},
   "outputs": [],
   "source": [
    "df_pos = df[df['target'] == 1].iloc[:200000]\n",
    "df_neg = df[df['target'] == 0].iloc[:200000]\n",
    "df_new = pd.concat([df_neg,df_pos], axis = 0)"
   ]
  },
  {
   "cell_type": "code",
   "execution_count": 30,
   "id": "5a0b01a6-df04-41e8-b971-927a5469fb54",
   "metadata": {},
   "outputs": [],
   "source": [
    "df_new['text'] = df_new['text'].str.lower()"
   ]
  },
  {
   "cell_type": "code",
   "execution_count": 32,
   "id": "692b5eba-34a5-4739-926b-0c72e7058596",
   "metadata": {},
   "outputs": [
    {
     "data": {
      "text/plain": [
       "999995             @healingsinger thank you, i needed that \n",
       "999996    @vactress http://bit.ly/cadea  maybe this is m...\n",
       "999997    @brat13 hell, windows 7 will be out of my pric...\n",
       "999998    @jigardoshi neah.. i wish! just reminiscing  r...\n",
       "999999    @msteagan ..and by the way: i rewatched sun go...\n",
       "Name: text, dtype: object"
      ]
     },
     "execution_count": 32,
     "metadata": {},
     "output_type": "execute_result"
    }
   ],
   "source": [
    "sequencePattern   = r\"(.)\\1\\1+\"\n",
    "seqReplacePattern = r\"\\1\\1\"\n",
    "\n",
    "def removing_consecutive (data):\n",
    "    return re.sub(sequencePattern, seqReplacePattern, data)\n",
    "    \n",
    "df_new['text'] = df_new['text'].apply(removing_consecutive)\n",
    "df_new['text'].tail()"
   ]
  },
  {
   "cell_type": "code",
   "execution_count": 34,
   "id": "43f0bed9-f81f-4692-a40c-388cb61b6d8e",
   "metadata": {},
   "outputs": [
    {
     "data": {
      "text/plain": [
       "999995             @healingsinger thank you, i needed that \n",
       "999996                  @vactress   maybe this is more you \n",
       "999997    @brat13 hell, windows 7 will be out of my pric...\n",
       "999998    @jigardoshi neah.. i wish! just reminiscing  r...\n",
       "999999    @msteagan ..and by the way: i rewatched sun go...\n",
       "Name: text, dtype: object"
      ]
     },
     "execution_count": 34,
     "metadata": {},
     "output_type": "execute_result"
    }
   ],
   "source": [
    "url_pattern = r\"((http://)[^ ]*|(https://)[^ ]*|( www\\.)[^ ]*)\"\n",
    "\n",
    "def cleaning_URLs(data):\n",
    "    return re.sub(url_pattern,'',data)\n",
    "\n",
    "df_new['text'] = df_new['text'].apply(cleaning_URLs)\n",
    "df_new['text'].tail()"
   ]
  },
  {
   "cell_type": "code",
   "execution_count": 36,
   "id": "fa6f1502-3154-4cdc-aec3-bd16363e79b3",
   "metadata": {},
   "outputs": [
    {
     "data": {
      "text/plain": [
       "999995              @healingsinger thank you, i needed that\n",
       "999996                     @vactress maybe this is more you\n",
       "999997    @brat13 hell, windows 7 will be out of my pric...\n",
       "999998    @jigardoshi neah.. i wish! just reminiscing re...\n",
       "999999    @msteagan ..and by the way: i rewatched sun go...\n",
       "Name: text, dtype: object"
      ]
     },
     "execution_count": 36,
     "metadata": {},
     "output_type": "execute_result"
    }
   ],
   "source": [
    "emojis = {':)': 'smile', ':-)': 'smile', ';d': 'wink', ':-E': 'vampire', ':(': 'sad', \n",
    "          ':-(': 'sad', ':-<': 'sad', ':P': 'raspberry', ':O': 'surprised',\n",
    "          ':-@': 'shocked', ':@': 'shocked',':-$': 'confused', ':\\\\': 'annoyed', \n",
    "          ':#': 'mute', ':X': 'mute', ':^)': 'smile', ':-&': 'confused', '$_$': 'greedy',\n",
    "          '@@': 'eyeroll', ':-!': 'confused', ':-D': 'smile', ':-0': 'yell', 'O.o': 'confused',\n",
    "          '<(-_-)>': 'robot', 'd[-_-]b': 'dj', \":'-)\": 'sadsmile', ';)': 'wink', \n",
    "          ';-)': 'wink', 'O:-)': 'angel','O*-)': 'angel','(:-D': 'gossip', '=^.^=': 'cat'}\n",
    "\n",
    "def replacing_emojis(data):\n",
    "    text = []\n",
    "    for word in data.split():\n",
    "        if word not in emojis.keys():\n",
    "            text.append(word)\n",
    "        else:\n",
    "            text.append(emojis[word])\n",
    "    return ' '.join(text)\n",
    "\n",
    "df_new['text'] = df_new['text'].apply(replacing_emojis)\n",
    "df_new['text'].tail()\n",
    "            "
   ]
  },
  {
   "cell_type": "code",
   "execution_count": 38,
   "id": "825608e2-ba9b-40a2-86b5-53a29eaea380",
   "metadata": {},
   "outputs": [
    {
     "data": {
      "text/plain": [
       "999995                             thank you, i needed that\n",
       "999996                               maybe this is more you\n",
       "999997     hell, windows 7 will be out of my price range...\n",
       "999998     neah.. i wish! just reminiscing read the post...\n",
       "999999     ..and by the way: i rewatched sun goddess las...\n",
       "Name: text, dtype: object"
      ]
     },
     "execution_count": 38,
     "metadata": {},
     "output_type": "execute_result"
    }
   ],
   "source": [
    "tag_pattern = '@[^\\s]+'\n",
    "\n",
    "def removing_tag (data):\n",
    "    return re.sub(tag_pattern,'',data)\n",
    "\n",
    "df_new['text'] = df_new['text'].apply(removing_tag)\n",
    "df_new['text'].tail()"
   ]
  },
  {
   "cell_type": "code",
   "execution_count": 40,
   "id": "fdbc8954-e044-40be-861b-be92e4d72ca5",
   "metadata": {},
   "outputs": [
    {
     "data": {
      "text/plain": [
       "999995                              thank you i needed that\n",
       "999996                               maybe this is more you\n",
       "999997     hell windows 7 will be out of my price range ...\n",
       "999998     neah i wish just reminiscing read the post in...\n",
       "999999     and by the way i rewatched sun goddess last n...\n",
       "Name: text, dtype: object"
      ]
     },
     "execution_count": 40,
     "metadata": {},
     "output_type": "execute_result"
    }
   ],
   "source": [
    "import string\n",
    "english_punctuations = string.punctuation\n",
    "punctuations_list = english_punctuations\n",
    "def cleaning_punctuations(data):\n",
    "    translator = str.maketrans('', '', punctuations_list)\n",
    "    return data.translate(translator)\n",
    "\n",
    "df_new['text']= df_new['text'].apply(cleaning_punctuations)\n",
    "df_new['text'].tail()"
   ]
  },
  {
   "cell_type": "code",
   "execution_count": 42,
   "id": "cf0bc907-8bec-4e38-a06c-e33eb6351476",
   "metadata": {},
   "outputs": [
    {
     "data": {
      "text/plain": [
       "999995                                         thank needed\n",
       "999996                                                maybe\n",
       "999997               hell windows 7 price range unless free\n",
       "999998           neah wish reminiscing read post last tweet\n",
       "999999    way rewatched sun goddess last night sasha ama...\n",
       "Name: text, dtype: object"
      ]
     },
     "execution_count": 42,
     "metadata": {},
     "output_type": "execute_result"
    }
   ],
   "source": [
    "# Cleaning stop words\n",
    "# Define an English stopwords list (API)\n",
    "\n",
    "stopwordlist = ['i', 'me', 'my', 'myself', 'we', 'our', 'ours', 'ourselves', 'you', 'youre', 'youve', 'youll', 'youd', 'your', 'yours', \n",
    "                'yourself', 'yourselves', 'he', 'him', 'his', 'himself', 'she', 'shes', 'her', 'hers', 'herself', 'it', 'its', 'its', 'itself', \n",
    "                'they', 'them', 'their', 'theirs', 'themselves', 'what', 'which', 'who', 'whom', 'this', 'that', 'thatll', 'these', 'those', 'am', \n",
    "                'is', 'are', 'was', 'were', 'be', 'been', 'being', 'have', 'has', 'had', 'having', 'do', 'does', 'did', 'doing', 'a', 'an', 'the', 'and',\n",
    "                'but', 'if', 'or', 'because', 'as', 'until', 'while', 'of', 'at', 'by', 'for', 'with', 'about', 'against', 'between', \n",
    "                'into', 'through', 'during', 'before', 'after', 'above', 'below', 'to', 'from', 'up', 'down', 'in', 'out', 'on', 'off', \n",
    "                'over', 'under', 'again', 'further', 'then', 'once', 'here', 'there', 'when', 'where', 'why', 'how', 'all', 'any', 'both', \n",
    "                'each', 'few', 'more', 'most', 'other', 'some', 'such', 'no', 'nor', 'not', 'only', 'own', 'same', 'so', 'than', 'too', \n",
    "                'very', 's', 't', 'can', 'will', 'just', 'don', 'dont', 'should', 'shouldve', 'now', 'd', 'll', 'm', 'o', 're', 've', 'y', \n",
    "                'ain', 'aren', 'arent', 'couldn', 'couldnt', 'didn', 'didnt', 'doesn', 'doesnt', 'hadn', 'hadnt', 'hasn', 'hasnt', 'haven', \n",
    "                'havent', 'isn', 'isnt', 'ma', 'mightn', 'mightnt', 'mustn', 'mustnt', 'needn', 'neednt', 'shan', 'shant', 'shouldn', 'shouldnt', \n",
    "                'wasn', 'wasnt', 'weren', 'werent', 'won', 'wont', 'wouldn', 'wouldnt']\n",
    "\n",
    "\n",
    "# Stopwordlist was extracted from stopwords list function within nltk library and have been removed punctuations, while it do not have i'm, etc. we will add this.\n",
    "stopwordlist += [\"im\", \"theyre\"]\n",
    "\n",
    "def removing_stopword(data):\n",
    "    text = []\n",
    "    for word in data.split():\n",
    "        if word not in stopwordlist:\n",
    "            text.append(word)\n",
    "    return ' '.join(text)\n",
    "\n",
    "df_new['text'] = df_new['text'].apply(removing_stopword)\n",
    "df_new['text'].tail()"
   ]
  },
  {
   "cell_type": "code",
   "execution_count": 44,
   "id": "297c6f00-602e-4365-8173-c1431df3c8e5",
   "metadata": {},
   "outputs": [
    {
     "data": {
      "text/plain": [
       "999995                                         thank needed\n",
       "999996                                                maybe\n",
       "999997                 hell windows price range unless free\n",
       "999998           neah wish reminiscing read post last tweet\n",
       "999999    way rewatched sun goddess last night sasha ama...\n",
       "Name: text, dtype: object"
      ]
     },
     "execution_count": 44,
     "metadata": {},
     "output_type": "execute_result"
    }
   ],
   "source": [
    "def removing_single(data):\n",
    "    text = [word for word in data.split() if len(word)>1]\n",
    "    return ' '.join(text)\n",
    "\n",
    "df_new['text'] = df_new['text'].apply(removing_single)\n",
    "df_new['text'].tail()"
   ]
  },
  {
   "cell_type": "code",
   "execution_count": 46,
   "id": "c6c70f2d-043f-4b7a-b2a8-6e5ab614166a",
   "metadata": {},
   "outputs": [
    {
     "name": "stderr",
     "output_type": "stream",
     "text": [
      "[nltk_data] Downloading package wordnet to\n",
      "[nltk_data]     C:\\Users\\Dell\\AppData\\Roaming\\nltk_data...\n",
      "[nltk_data] Downloading package omw-1.4 to\n",
      "[nltk_data]     C:\\Users\\Dell\\AppData\\Roaming\\nltk_data...\n",
      "'unzip' is not recognized as an internal or external command,\n",
      "operable program or batch file.\n"
     ]
    },
    {
     "data": {
      "text/plain": [
       "999995                                         thank needed\n",
       "999996                                                maybe\n",
       "999997                  hell window price range unless free\n",
       "999998           neah wish reminiscing read post last tweet\n",
       "999999    way rewatched sun goddess last night sasha ama...\n",
       "Name: text, dtype: object"
      ]
     },
     "execution_count": 46,
     "metadata": {},
     "output_type": "execute_result"
    }
   ],
   "source": [
    "nltk.download('wordnet')\n",
    "nltk.download('omw-1.4')\n",
    "!unzip /usr/share/nltk_data/corpora/wordnet.zip -d /usr/share/nltk_data/corpora/\n",
    "\n",
    "\n",
    "lm = WordNetLemmatizer()\n",
    "\n",
    "def lemmatization_1(data):\n",
    "    words = data.split()\n",
    "    lemmatized_words = [lm.lemmatize(word) for word in words] \n",
    "    return ' '.join(lemmatized_words)\n",
    "\n",
    "\n",
    "df_new['text'] = df_new['text'].apply(lemmatization_1)\n",
    "df_new['text'].tail()"
   ]
  },
  {
   "cell_type": "code",
   "execution_count": 48,
   "id": "0becd4ab-2d97-4252-ab28-631244781e1e",
   "metadata": {},
   "outputs": [
    {
     "data": {
      "text/plain": [
       "999995                                           thank need\n",
       "999996                                                maybe\n",
       "999997                  hell window price range unless free\n",
       "999998             neah wish reminisce read post last tweet\n",
       "999999    way rewatched sun goddess last night sasha ama...\n",
       "Name: text, dtype: object"
      ]
     },
     "execution_count": 48,
     "metadata": {},
     "output_type": "execute_result"
    }
   ],
   "source": [
    "from nltk import pos_tag\n",
    "def lemmatization_2(data):\n",
    "    words = data.split()\n",
    "    lemmatized_words = [lm.lemmatize(word, pos = 'v') for word in words] \n",
    "    return ' '.join (lemmatized_words)\n",
    "\n",
    "\n",
    "df_new['text'] = df_new['text'].apply(lemmatization_2)\n",
    "df_new['text'].tail()"
   ]
  },
  {
   "cell_type": "code",
   "execution_count": 50,
   "id": "fd52d9b4-d28d-484e-8571-869c0f90d6d7",
   "metadata": {},
   "outputs": [],
   "source": [
    "X = df_new['text']\n",
    "y = df_new['target']"
   ]
  },
  {
   "cell_type": "code",
   "execution_count": 52,
   "id": "40adbdcd-8c4e-4e98-a173-42d455b8288a",
   "metadata": {},
   "outputs": [],
   "source": [
    "X_temp, X_test, y_temp, y_test = train_test_split (X,y, test_size = 0.2, random_state = 1211)\n",
    "X_train, X_valid, y_train, y_valid = train_test_split (X_temp, y_temp, test_size = 0.2, random_state = 1211)"
   ]
  },
  {
   "cell_type": "code",
   "execution_count": 54,
   "id": "142f6b5c-a030-4560-945f-f73623a7dcb4",
   "metadata": {},
   "outputs": [],
   "source": [
    "vectoriser = CountVectorizer(max_features=100000)\n",
    "vectoriser.fit(X_train.values)\n",
    "X_train_count = vectoriser.transform(X_train)\n",
    "X_valid_count = vectoriser.transform(X_valid)\n",
    "X_test_count = vectoriser.transform(X_test)"
   ]
  },
  {
   "cell_type": "code",
   "execution_count": 56,
   "id": "5a920b59-462d-47c1-a32f-5f1c51fe967c",
   "metadata": {},
   "outputs": [
    {
     "data": {
      "text/html": [
       "<style>#sk-container-id-1 {color: black;background-color: white;}#sk-container-id-1 pre{padding: 0;}#sk-container-id-1 div.sk-toggleable {background-color: white;}#sk-container-id-1 label.sk-toggleable__label {cursor: pointer;display: block;width: 100%;margin-bottom: 0;padding: 0.3em;box-sizing: border-box;text-align: center;}#sk-container-id-1 label.sk-toggleable__label-arrow:before {content: \"▸\";float: left;margin-right: 0.25em;color: #696969;}#sk-container-id-1 label.sk-toggleable__label-arrow:hover:before {color: black;}#sk-container-id-1 div.sk-estimator:hover label.sk-toggleable__label-arrow:before {color: black;}#sk-container-id-1 div.sk-toggleable__content {max-height: 0;max-width: 0;overflow: hidden;text-align: left;background-color: #f0f8ff;}#sk-container-id-1 div.sk-toggleable__content pre {margin: 0.2em;color: black;border-radius: 0.25em;background-color: #f0f8ff;}#sk-container-id-1 input.sk-toggleable__control:checked~div.sk-toggleable__content {max-height: 200px;max-width: 100%;overflow: auto;}#sk-container-id-1 input.sk-toggleable__control:checked~label.sk-toggleable__label-arrow:before {content: \"▾\";}#sk-container-id-1 div.sk-estimator input.sk-toggleable__control:checked~label.sk-toggleable__label {background-color: #d4ebff;}#sk-container-id-1 div.sk-label input.sk-toggleable__control:checked~label.sk-toggleable__label {background-color: #d4ebff;}#sk-container-id-1 input.sk-hidden--visually {border: 0;clip: rect(1px 1px 1px 1px);clip: rect(1px, 1px, 1px, 1px);height: 1px;margin: -1px;overflow: hidden;padding: 0;position: absolute;width: 1px;}#sk-container-id-1 div.sk-estimator {font-family: monospace;background-color: #f0f8ff;border: 1px dotted black;border-radius: 0.25em;box-sizing: border-box;margin-bottom: 0.5em;}#sk-container-id-1 div.sk-estimator:hover {background-color: #d4ebff;}#sk-container-id-1 div.sk-parallel-item::after {content: \"\";width: 100%;border-bottom: 1px solid gray;flex-grow: 1;}#sk-container-id-1 div.sk-label:hover label.sk-toggleable__label {background-color: #d4ebff;}#sk-container-id-1 div.sk-serial::before {content: \"\";position: absolute;border-left: 1px solid gray;box-sizing: border-box;top: 0;bottom: 0;left: 50%;z-index: 0;}#sk-container-id-1 div.sk-serial {display: flex;flex-direction: column;align-items: center;background-color: white;padding-right: 0.2em;padding-left: 0.2em;position: relative;}#sk-container-id-1 div.sk-item {position: relative;z-index: 1;}#sk-container-id-1 div.sk-parallel {display: flex;align-items: stretch;justify-content: center;background-color: white;position: relative;}#sk-container-id-1 div.sk-item::before, #sk-container-id-1 div.sk-parallel-item::before {content: \"\";position: absolute;border-left: 1px solid gray;box-sizing: border-box;top: 0;bottom: 0;left: 50%;z-index: -1;}#sk-container-id-1 div.sk-parallel-item {display: flex;flex-direction: column;z-index: 1;position: relative;background-color: white;}#sk-container-id-1 div.sk-parallel-item:first-child::after {align-self: flex-end;width: 50%;}#sk-container-id-1 div.sk-parallel-item:last-child::after {align-self: flex-start;width: 50%;}#sk-container-id-1 div.sk-parallel-item:only-child::after {width: 0;}#sk-container-id-1 div.sk-dashed-wrapped {border: 1px dashed gray;margin: 0 0.4em 0.5em 0.4em;box-sizing: border-box;padding-bottom: 0.4em;background-color: white;}#sk-container-id-1 div.sk-label label {font-family: monospace;font-weight: bold;display: inline-block;line-height: 1.2em;}#sk-container-id-1 div.sk-label-container {text-align: center;}#sk-container-id-1 div.sk-container {/* jupyter's `normalize.less` sets `[hidden] { display: none; }` but bootstrap.min.css set `[hidden] { display: none !important; }` so we also need the `!important` here to be able to override the default hidden behavior on the sphinx rendered scikit-learn.org. See: https://github.com/scikit-learn/scikit-learn/issues/21755 */display: inline-block !important;position: relative;}#sk-container-id-1 div.sk-text-repr-fallback {display: none;}</style><div id=\"sk-container-id-1\" class=\"sk-top-container\"><div class=\"sk-text-repr-fallback\"><pre>MultinomialNB()</pre><b>In a Jupyter environment, please rerun this cell to show the HTML representation or trust the notebook. <br />On GitHub, the HTML representation is unable to render, please try loading this page with nbviewer.org.</b></div><div class=\"sk-container\" hidden><div class=\"sk-item\"><div class=\"sk-estimator sk-toggleable\"><input class=\"sk-toggleable__control sk-hidden--visually\" id=\"sk-estimator-id-1\" type=\"checkbox\" checked><label for=\"sk-estimator-id-1\" class=\"sk-toggleable__label sk-toggleable__label-arrow\">MultinomialNB</label><div class=\"sk-toggleable__content\"><pre>MultinomialNB()</pre></div></div></div></div></div>"
      ],
      "text/plain": [
       "MultinomialNB()"
      ]
     },
     "execution_count": 56,
     "metadata": {},
     "output_type": "execute_result"
    }
   ],
   "source": [
    "clf_nb = MultinomialNB(alpha = 1.0, class_prior = None, fit_prior = True)\n",
    "clf_nb.fit(X_train_count,y_train)"
   ]
  },
  {
   "cell_type": "code",
   "execution_count": 58,
   "id": "2fc1e5b6-5f03-46fe-aea0-1a8e0d7fd9fe",
   "metadata": {},
   "outputs": [
    {
     "data": {
      "text/plain": [
       "0.8095859375"
      ]
     },
     "execution_count": 58,
     "metadata": {},
     "output_type": "execute_result"
    }
   ],
   "source": [
    "clf_nb.score (X_train_count, y_train)"
   ]
  },
  {
   "cell_type": "code",
   "execution_count": 60,
   "id": "821f0464-075f-43b7-9f52-7c04fab24dcd",
   "metadata": {},
   "outputs": [
    {
     "name": "stdout",
     "output_type": "stream",
     "text": [
      "Best Hyperparameters: {'alpha': 0.0001, 'penalty': 'l2'}\n",
      "Best Score: 0.7571289031298075\n"
     ]
    }
   ],
   "source": [
    "model_sgd = SGDClassifier(max_iter=1000, n_jobs=-1, loss = 'log_loss')\n",
    "\n",
    "param_grid_sgd = {\n",
    "    'alpha': [0.0001, 0.001, 0.01],  \n",
    "    'penalty': ['l2', 'l1'] # Adding regularization to minimize overfitting\n",
    "}\n",
    "\n",
    "clf_sgd = GridSearchCV(model_sgd, param_grid_sgd, cv=3, return_train_score=False)\n",
    "\n",
    "clf_sgd.fit(X_train_count, y_train)\n",
    "\n",
    "best_params_sgd = clf_sgd.best_params_\n",
    "best_score_sgd = clf_sgd.best_score_\n",
    "clf_sgd_best = clf_sgd.best_estimator_\n",
    "\n",
    "print(\"Best Hyperparameters:\", best_params_sgd)\n",
    "print(\"Best Score:\", best_score_sgd)"
   ]
  },
  {
   "cell_type": "code",
   "execution_count": 62,
   "id": "6974c002-339f-43f1-b4d2-a69bf1f894df",
   "metadata": {},
   "outputs": [
    {
     "data": {
      "text/plain": [
       "0.770203125"
      ]
     },
     "execution_count": 62,
     "metadata": {},
     "output_type": "execute_result"
    }
   ],
   "source": [
    "clf_sgd_best.score(X_train_count, y_train)"
   ]
  },
  {
   "cell_type": "code",
   "execution_count": 64,
   "id": "87da461d-f753-4457-a753-8eae577ceb64",
   "metadata": {},
   "outputs": [
    {
     "data": {
      "text/plain": [
       "0.75640625"
      ]
     },
     "execution_count": 64,
     "metadata": {},
     "output_type": "execute_result"
    }
   ],
   "source": [
    "clf_sgd_best.score(X_valid_count, y_valid)"
   ]
  },
  {
   "cell_type": "code",
   "execution_count": 66,
   "id": "87d4098b-dd80-4e33-9ef1-d6b2a18fcde0",
   "metadata": {},
   "outputs": [
    {
     "data": {
      "image/png": "[encoded data removed]",
      "text/plain": [
       "<Figure size 640x480 with 1 Axes>"
      ]
     },
     "metadata": {},
     "output_type": "display_data"
    }
   ],
   "source": [
    "y_nb_probs = clf_nb.predict_proba(X_valid_count)[:,1]\n",
    "y_lr_probs = clf_sgd_best.predict_proba(X_valid_count)[:,1]\n",
    "\n",
    "auc_nb = roc_auc_score(y_valid, y_nb_probs)\n",
    "auc_lr = roc_auc_score(y_valid, y_lr_probs)\n",
    "\n",
    "lw = 2 \n",
    "\n",
    "fpr_nb, tpr_nb,thresholds_nb = roc_curve(y_valid, y_nb_probs, pos_label=1)\n",
    "fpr_lr, tpr_lr,thresholds_lr = roc_curve(y_valid, y_lr_probs, pos_label=1)\n",
    "\n",
    "plt.plot(fpr_nb, tpr_nb, lw = 2, color ='green', label=f'Naive Bayes ROC curve (area = {auc_nb:.2f})' )\n",
    "plt.plot(fpr_lr, tpr_lr, lw = 2, color ='red', label=f'Logistic Regression ROC curve (area = {auc_lr:.2f})' )\n",
    "\n",
    "plt.plot([0, 1], [0, 1], color='navy', lw=lw, linestyle='--') \n",
    "plt.xlim([0.0, 1.0])\n",
    "plt.ylim([0.0, 1.05])\n",
    "plt.xlabel('False Positive Rate')\n",
    "plt.ylabel('True Positive Rate')\n",
    "plt.title('Receiver Operating Characteristic')\n",
    "plt.legend(loc=\"lower right\")\n",
    "plt.show()"
   ]
  },
  {
   "cell_type": "code",
   "execution_count": 68,
   "id": "3873f2b0-549b-4c3f-a25c-14b4b23ba599",
   "metadata": {},
   "outputs": [
    {
     "data": {
      "text/plain": [
       "0.7574625"
      ]
     },
     "execution_count": 68,
     "metadata": {},
     "output_type": "execute_result"
    }
   ],
   "source": [
    "clf_sgd_best.score(X_test_count, y_test)"
   ]
  },
  {
   "cell_type": "code",
   "execution_count": 70,
   "id": "8a08b29e-2ed5-4368-b377-69ac676b9cdf",
   "metadata": {},
   "outputs": [],
   "source": [
    "y_pred = clf_sgd_best.predict(X_test_count)"
   ]
  },
  {
   "cell_type": "code",
   "execution_count": 72,
   "id": "92a0c09e-3935-4faa-83fd-e7ee877a0462",
   "metadata": {},
   "outputs": [
    {
     "name": "stdout",
     "output_type": "stream",
     "text": [
      "              precision    recall  f1-score   support\n",
      "\n",
      "           0       0.72      0.78      0.75     37074\n",
      "           1       0.80      0.74      0.77     42926\n",
      "\n",
      "    accuracy                           0.76     80000\n",
      "   macro avg       0.76      0.76      0.76     80000\n",
      "weighted avg       0.76      0.76      0.76     80000\n",
      "\n"
     ]
    }
   ],
   "source": [
    "print (classification_report( y_pred, y_test))"
   ]
  },
  {
   "cell_type": "code",
   "execution_count": 74,
   "id": "3c83eebf-a358-4bcf-9f12-037e0a8ad1a5",
   "metadata": {},
   "outputs": [
    {
     "data": {
      "image/png": "[encoded data removed]",
      "text/plain": [
       "<Figure size 640x480 with 2 Axes>"
      ]
     },
     "metadata": {},
     "output_type": "display_data"
    }
   ],
   "source": [
    "mat = confusion_matrix (y_pred, y_test)\n",
    "dis = ConfusionMatrixDisplay( confusion_matrix = mat)\n",
    "dis.plot()\n",
    "plt.tight_layout()\n",
    "plt.show()"
   ]
  },
  {
   "cell_type": "code",
   "execution_count": 76,
   "id": "31bf046b-5b85-4e32-96da-eeda155256ed",
   "metadata": {},
   "outputs": [
    {
     "data": {
      "image/png": "[encoded data removed]",
      "text/plain": [
       "<Figure size 640x480 with 1 Axes>"
      ]
     },
     "metadata": {},
     "output_type": "display_data"
    }
   ],
   "source": [
    "y_lr_probs = clf_sgd_best.predict_proba(X_test_count)[:,1]\n",
    "auc_lr = roc_auc_score(y_test, y_lr_probs)\n",
    "\n",
    "lw = 2 \n",
    "fpr_lr, tpr_lr,thresholds_lr = roc_curve(y_test, y_lr_probs, pos_label=1)\n",
    "plt.plot(fpr_lr, tpr_lr, lw = 2, color ='red', label=f'Logistic Regression ROC curve (area = {auc_lr:.2f})' )\n",
    "\n",
    "plt.plot([0, 1], [0, 1], color='navy', lw=lw, linestyle='--') \n",
    "plt.xlim([0.0, 1.0])\n",
    "plt.ylim([0.0, 1.05])\n",
    "plt.xlabel('False Positive Rate')\n",
    "plt.ylabel('True Positive Rate')\n",
    "plt.title('Receiver Operating Characteristic')\n",
    "plt.legend(loc=\"lower right\")\n",
    "plt.show()"
   ]
  },
  {
   "cell_type": "code",
   "execution_count": null,
   "id": "f765f5b4-2dbd-4a3c-a7dc-626e02212d46",
   "metadata": {},
   "outputs": [],
   "source": []
  }
 ],
 "metadata": {
  "kernelspec": {
   "display_name": "Python 3 (ipykernel)",
   "language": "python",
   "name": "python3"
  },
  "language_info": {
   "codemirror_mode": {
    "name": "ipython",
    "version": 3
   },
   "file_extension": ".py",
   "mimetype": "text/x-python",
   "name": "python",
   "nbconvert_exporter": "python",
   "pygments_lexer": "ipython3",
   "version": "3.11.5"
  }
 },
 "nbformat": 4,
 "nbformat_minor": 5
}
